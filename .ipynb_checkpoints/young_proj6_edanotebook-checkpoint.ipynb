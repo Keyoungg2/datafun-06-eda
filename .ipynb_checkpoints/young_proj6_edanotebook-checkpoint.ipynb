{
 "cells": [
  {
   "cell_type": "markdown",
   "metadata": {},
   "source": [
    "### Welcome to Module 6 Project Custom EDA\n",
    "\n",
    "Coder: Kareem Young\n",
    "\n",
    "Project name: Young_Proj_Loan_Edanotebook"
   ]
  },
  {
   "cell_type": "markdown",
   "metadata": {},
   "source": [
    "### Purpose\n",
    "\n",
    "This module 6 EDA project is for displaying knowledge of using  Jupyter notebooks for a comprehensive exploratory data analysis (EDA). \n",
    "In this script I will be preforming a exploratory data analysis on the Loan application dataset from github. The project will require the usage of jupyter, pandas, seaborn, and mathplot lib analytical tools.\n",
    "The main objective is to explore a dataset of interest, perform data acquisition, initial data inspection, descriptive statistics, data distribution analysis, data transformation, feature engineering, and visualization. The project will give insight into the statisticall analysis on dataset usign visualizations and presenting a detailed, organized of analysis findings. "
   ]
  },
  {
   "cell_type": "code",
   "execution_count": 2,
   "metadata": {},
   "outputs": [],
   "source": [
    "#Library imports\n",
    "import jupyterlab\n",
    "import pandas as pd\n",
    "import matplotlib.pyplot as ply\n",
    "import seaborn as sns\n"
   ]
  },
  {
   "cell_type": "markdown",
   "metadata": {},
   "source": [
    "# Step 1. Data Acquisition\n",
    "\n",
    "Here we will load data for into pandas so system can read."
   ]
  },
  {
   "cell_type": "code",
   "execution_count": null,
   "metadata": {},
   "outputs": [],
   "source": [
    "# Load the dataset into panda DataFram\n",
    "loan-appplication = pd.read_csv(https://github.com/MainakRepositor/Datasets/blob/master/Loan%20Eligibility/loan-test.csv)\n",
    "df= sns.load_dataset('loan-application')\n",
    "\n",
    "#Inspect first rows of the datafram\n",
    "print(df.head())"
   ]
  }
 ],
 "metadata": {
  "kernelspec": {
   "display_name": "Python 3 (ipykernel)",
   "language": "python",
   "name": "python3"
  },
  "language_info": {
   "codemirror_mode": {
    "name": "ipython",
    "version": 3
   },
   "file_extension": ".py",
   "mimetype": "text/x-python",
   "name": "python",
   "nbconvert_exporter": "python",
   "pygments_lexer": "ipython3",
   "version": "3.12.1"
  }
 },
 "nbformat": 4,
 "nbformat_minor": 4
}
